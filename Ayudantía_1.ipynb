{
  "nbformat": 4,
  "nbformat_minor": 0,
  "metadata": {
    "colab": {
      "provenance": []
    },
    "kernelspec": {
      "name": "python3",
      "display_name": "Python 3"
    },
    "language_info": {
      "name": "python"
    }
  },
  "cells": [
    {
      "cell_type": "markdown",
      "source": [
        "# Ayudantía 1: POO y EDD\n"
      ],
      "metadata": {
        "id": "xivIbroZlyeH"
      }
    },
    {
      "cell_type": "markdown",
      "source": [
        "20 de Marzo 2025\n",
        "\n",
        "Juan Pablo Tapia\n",
        "\n",
        "jp.tapia@uc.cl"
      ],
      "metadata": {
        "id": "XleI0D7tm4FK"
      }
    },
    {
      "cell_type": "markdown",
      "source": [
        "## Estructuras de Datos"
      ],
      "metadata": {
        "id": "M7aPdbSDn3gA"
      }
    },
    {
      "cell_type": "markdown",
      "source": [
        "### Listas"
      ],
      "metadata": {
        "id": "nl-DJGsPoJUg"
      }
    },
    {
      "cell_type": "markdown",
      "source": [
        "Las listas en Python son estructuras de datos ordenadas y mutables que pueden contener elementos de diferentes tipos. Se representan con corchetes \"[ ]\" y permiten modificaciones como agregar, eliminar o modificar elementos."
      ],
      "metadata": {
        "id": "HGcHS3NLoWpo"
      }
    },
    {
      "cell_type": "code",
      "source": [
        "# Lista de compras\n",
        "lista_compras = [\"Pan\", \"Leche\", \"Huevos\", \"Manzanas\"]\n",
        "\n",
        "# Acceder al primer elemento\n",
        "print(lista_compras[0])  # Pan\n",
        "\n",
        "# Modificar un elemento (cambiar Manzanas por Plátanos)\n",
        "lista_compras[3] = \"Plátanos\"\n",
        "\n",
        "# Agregar un nuevo producto\n",
        "lista_compras.append(\"Queso\")\n",
        "\n",
        "# Eliminar un producto (ejemplo: eliminar Leche)\n",
        "lista_compras.remove(\"Leche\")\n",
        "\n",
        "print(lista_compras)  # ['Pan', 'Huevos', 'Plátanos', 'Queso']"
      ],
      "metadata": {
        "colab": {
          "base_uri": "https://localhost:8080/"
        },
        "id": "jpVb0bcmQ9AG",
        "outputId": "41951a2a-451a-4ddb-8254-5127eefef576"
      },
      "execution_count": null,
      "outputs": [
        {
          "output_type": "stream",
          "name": "stdout",
          "text": [
            "Pan\n",
            "['Pan', 'Huevos', 'Plátanos', 'Queso']\n"
          ]
        }
      ]
    },
    {
      "cell_type": "markdown",
      "source": [
        "📌 Idea clave: Como en una lista de compras, puedes modificar lo que llevas, agregar más cosas o quitar lo que ya no necesitas.\n"
      ],
      "metadata": {
        "id": "sJlRh1mMSd4N"
      }
    },
    {
      "cell_type": "markdown",
      "source": [
        "### Tuplas"
      ],
      "metadata": {
        "id": "Jwz-xbV2oMio"
      }
    },
    {
      "cell_type": "markdown",
      "source": [
        "Las tuplas son estructuras de datos ordenadas pero inmutables, lo que significa que, una vez creadas, no se pueden modificar. Se representan con paréntesis \"( )\"."
      ],
      "metadata": {
        "id": "kPqS8ZxboWLK"
      }
    },
    {
      "cell_type": "code",
      "source": [
        "# Datos personales (nombre, edad, ciudad)\n",
        "datos_personales = (\"Carlos\", 30, \"Santiago\")\n",
        "\n",
        "# Acceder a un dato (ejemplo: la ciudad)\n",
        "print(datos_personales[2])  # Santiago\n",
        "\n",
        "# No se puede modificar una tupla\n",
        "# datos_personales[1] = 31  # Esto daría error\n",
        "\n",
        "# Se pueden desempaquetar los datos\n",
        "nombre, edad, ciudad = datos_personales\n",
        "print(nombre, ciudad)  # Carlos Santiago"
      ],
      "metadata": {
        "colab": {
          "base_uri": "https://localhost:8080/"
        },
        "id": "IIzwZa3sSBeE",
        "outputId": "f22cdf86-7696-453a-ecfe-4ce9a8d45ffc"
      },
      "execution_count": null,
      "outputs": [
        {
          "output_type": "stream",
          "name": "stdout",
          "text": [
            "Santiago\n",
            "Carlos Santiago\n"
          ]
        }
      ]
    },
    {
      "cell_type": "markdown",
      "source": [
        "📌 Idea clave: Como los datos en un documento oficial, una tupla no se puede modificar."
      ],
      "metadata": {
        "id": "zLbi1H2KSj_e"
      }
    },
    {
      "cell_type": "markdown",
      "source": [
        "### Diccionarios"
      ],
      "metadata": {
        "id": "MQANnNb4oSFZ"
      }
    },
    {
      "cell_type": "markdown",
      "source": [
        "Los diccionarios en Python almacenan pares clave-valor y permiten acceder a los valores mediante sus claves. Se representan con llaves \"{ }\" y son mutables."
      ],
      "metadata": {
        "id": "ayjNAOO2Sweb"
      }
    },
    {
      "cell_type": "code",
      "source": [
        "# Agenda telefónica\n",
        "agenda = {\n",
        "    \"Mamá\": \"+56 987654321\",\n",
        "    \"Papá\": \"+56 912345678\",\n",
        "    \"Amigo Juan\": \"+56 934567890\"\n",
        "}\n",
        "\n",
        "# Buscar un número\n",
        "print(agenda[\"Mamá\"])  # +56 987654321\n",
        "\n",
        "# Agregar un nuevo contacto\n",
        "agenda[\"Hermana\"] = \"+56 965432109\"\n",
        "\n",
        "# Modificar un número\n",
        "agenda[\"Papá\"] = \"+56 900000000\"\n",
        "\n",
        "# Eliminar un contacto\n",
        "del agenda[\"Amigo Juan\"]\n",
        "\n",
        "print(agenda)"
      ],
      "metadata": {
        "id": "27I8mrerl_Dr",
        "colab": {
          "base_uri": "https://localhost:8080/"
        },
        "outputId": "5923692b-1d06-45c8-9d44-1da0c7a1469c"
      },
      "execution_count": null,
      "outputs": [
        {
          "output_type": "stream",
          "name": "stdout",
          "text": [
            "+56 987654321\n",
            "{'Mamá': '+56 987654321', 'Papá': '+56 900000000', 'Hermana': '+56 965432109'}\n"
          ]
        }
      ]
    },
    {
      "cell_type": "markdown",
      "source": [
        "**Algunos metodos utiles...**"
      ],
      "metadata": {
        "id": "0Z7E8wWI0qlQ"
      }
    },
    {
      "cell_type": "code",
      "source": [
        "# Obtener las claves\n",
        "print(agenda.keys())\n",
        "\n",
        "# Obtener los valores\n",
        "print(agenda.values())\n",
        "\n",
        "# Obtener pares clave-valor\n",
        "print(agenda.items())"
      ],
      "metadata": {
        "colab": {
          "base_uri": "https://localhost:8080/"
        },
        "id": "FYzAkp1aUPMR",
        "outputId": "e0334633-0bdc-48fb-e29c-e8c00754e96b"
      },
      "execution_count": null,
      "outputs": [
        {
          "output_type": "stream",
          "name": "stdout",
          "text": [
            "dict_keys(['Mamá', 'Papá', 'Hermana'])\n",
            "dict_values(['+56 987654321', '+56 900000000', '+56 965432109'])\n",
            "dict_items([('Mamá', '+56 987654321'), ('Papá', '+56 900000000'), ('Hermana', '+56 965432109')])\n"
          ]
        }
      ]
    },
    {
      "cell_type": "markdown",
      "source": [
        "📌 Idea clave: Como en la agenda de tu celular, puedes buscar un contacto, agregar nuevos o modificar los existentes.\n"
      ],
      "metadata": {
        "id": "rZLJXRuES-4v"
      }
    },
    {
      "cell_type": "markdown",
      "source": [
        "### Árboles"
      ],
      "metadata": {
        "id": "rj-1mltrofAY"
      }
    },
    {
      "cell_type": "markdown",
      "source": [
        "Un árbol es una estructura de datos jerárquica compuesta por nodos. El nodo principal se llama raíz, y cada nodo puede tener subnodos llamados hijos. Se usa en búsquedas, representaciones de estructuras jerárquicas, entre otros."
      ],
      "metadata": {
        "id": "KJYMDoQnohJX"
      }
    },
    {
      "cell_type": "code",
      "source": [
        "# Definimos un nodo para un árbol genealógico\n",
        "class Persona:\n",
        "    def __init__(self, nombre):\n",
        "        self.nombre = nombre\n",
        "        self.padre = None\n",
        "        self.madre = None\n",
        "\n",
        "# Crear personas\n",
        "abuelo = Persona(\"José\")\n",
        "padre = Persona(\"Carlos\")\n",
        "madre = Persona(\"Ana\")\n",
        "hijo = Persona(\"Pedro\")\n",
        "\n",
        "# Establecer relaciones familiares\n",
        "hijo.padre = padre\n",
        "hijo.madre = madre\n",
        "padre.padre = abuelo  # El abuelo es el padre de Carlos\n",
        "\n",
        "# Mostrar las relaciones\n",
        "print(f\"Padre de {hijo.nombre}: {hijo.padre.nombre}\")  # Padre de Pedro: Carlos\n",
        "print(f\"Abuelo de {hijo.nombre}: {hijo.padre.padre.nombre}\")  # Abuelo de Pedro: José\n"
      ],
      "metadata": {
        "colab": {
          "base_uri": "https://localhost:8080/"
        },
        "id": "fKJmuYstTqya",
        "outputId": "2bd91ac2-a5b0-4fb7-a644-4c9f1fa44061"
      },
      "execution_count": null,
      "outputs": [
        {
          "output_type": "stream",
          "name": "stdout",
          "text": [
            "Padre de Pedro: Carlos\n",
            "Abuelo de Pedro: José\n"
          ]
        }
      ]
    },
    {
      "cell_type": "markdown",
      "source": [
        "📌 Idea clave: Como en un árbol genealógico, cada persona puede tener padres e hijos, formando una estructura jerárquica."
      ],
      "metadata": {
        "id": "lipojE8LUEpK"
      }
    },
    {
      "cell_type": "markdown",
      "source": [
        "## Programación Orientada a Objetos"
      ],
      "metadata": {
        "id": "V2KZP1-Wor0n"
      }
    },
    {
      "cell_type": "markdown",
      "source": [
        "### Clases"
      ],
      "metadata": {
        "id": "FXD3fU-RowfI"
      }
    },
    {
      "cell_type": "markdown",
      "source": [
        "Una clase es un modelo o plantilla que define las propiedades (**atributos**) y comportamientos (**métodos**) de un objeto."
      ],
      "metadata": {
        "id": "Tt0qhzNLo62h"
      }
    },
    {
      "cell_type": "code",
      "source": [
        "# Definición de la clase Auto\n",
        "class Auto:\n",
        "    def __init__(self, marca, modelo, color):\n",
        "        self.marca = marca\n",
        "        self.modelo = modelo\n",
        "        self.color = color\n",
        "\n",
        "    def arrancar(self):\n",
        "        print(f\"El {self.marca} {self.modelo} está arrancando.\")\n",
        "\n",
        "# Crear objetos (autos) a partir de la clase Auto\n",
        "auto1 = Auto(\"Toyota\", \"Corolla\", \"Rojo\")\n",
        "auto2 = Auto(\"Ford\", \"Fiesta\", \"Azul\")\n",
        "\n",
        "# Usar métodos de la clase\n",
        "auto1.arrancar()  # El Toyota Corolla está arrancando."
      ],
      "metadata": {
        "colab": {
          "base_uri": "https://localhost:8080/"
        },
        "id": "Q_L6FfapVOa5",
        "outputId": "c1d08f42-f888-47cf-88a8-1575b26b9832"
      },
      "execution_count": null,
      "outputs": [
        {
          "output_type": "stream",
          "name": "stdout",
          "text": [
            "El Toyota Corolla está arrancando.\n"
          ]
        }
      ]
    },
    {
      "cell_type": "markdown",
      "source": [
        "📌 Idea clave: Una clase es un molde que define cómo serán los objetos creados a partir de ella."
      ],
      "metadata": {
        "id": "J7l8l-9rVl_E"
      }
    },
    {
      "cell_type": "markdown",
      "source": [
        "### Herencia"
      ],
      "metadata": {
        "id": "9JySCNDTo7MX"
      }
    },
    {
      "cell_type": "markdown",
      "source": [
        "La herencia permite que una clase hija herede atributos y métodos de una clase padre, reutilizando código y permitiendo especialización."
      ],
      "metadata": {
        "id": "JB-m49ROpCeR"
      }
    },
    {
      "cell_type": "code",
      "source": [
        "# Clase padre\n",
        "class Telefono:\n",
        "    def llamar(self):\n",
        "        print(\"Llamando...\")\n",
        "\n",
        "    def enviar_mensaje(self):\n",
        "        print(\"Enviando mensaje...\")\n",
        "\n",
        "# Clase hija que hereda de Telefono\n",
        "class Smartphone(Telefono):\n",
        "    def navegar_por_internet(self):\n",
        "        print(\"Navegando por Internet...\")\n",
        "\n",
        "# Crear un objeto de la clase hija\n",
        "mi_telefono = Smartphone()\n",
        "\n",
        "# Usar métodos heredados y nuevos\n",
        "mi_telefono.llamar()  # Llamando...\n",
        "mi_telefono.navegar_por_internet()  # Navegando por Internet..."
      ],
      "metadata": {
        "colab": {
          "base_uri": "https://localhost:8080/"
        },
        "id": "vxDM2jtNVqB2",
        "outputId": "7eb22ebf-4e06-43b9-f0e8-87b319b61676"
      },
      "execution_count": null,
      "outputs": [
        {
          "output_type": "stream",
          "name": "stdout",
          "text": [
            "Llamando...\n",
            "Navegando por Internet...\n"
          ]
        }
      ]
    },
    {
      "cell_type": "markdown",
      "source": [
        "📌 Idea clave: Un smartphone hereda las funciones de un teléfono básico, pero agrega nuevas funcionalidades."
      ],
      "metadata": {
        "id": "a2rDQ1GlV4Hu"
      }
    },
    {
      "cell_type": "markdown",
      "source": [
        "### Polimorfismo"
      ],
      "metadata": {
        "id": "dzPjoa2tpCuw"
      }
    },
    {
      "cell_type": "markdown",
      "source": [
        "El polimorfismo permite que una misma función tenga diferentes comportamientos según el objeto que la usa."
      ],
      "metadata": {
        "id": "Ess7C4L7pI1v"
      }
    },
    {
      "cell_type": "code",
      "source": [
        "# Clase padre\n",
        "class Animal:\n",
        "    def hacer_sonido(self):\n",
        "        pass  # Método vacío, se implementa en las clases hijas\n",
        "\n",
        "# Clases hijas con diferentes implementaciones del método\n",
        "class Perro(Animal):\n",
        "    def hacer_sonido(self):\n",
        "        return \"Guau\"\n",
        "\n",
        "class Gato(Animal):\n",
        "    def hacer_sonido(self):\n",
        "        return \"Miau\"\n",
        "\n",
        "# Función que usa polimorfismo\n",
        "def sonido_animal(animal):\n",
        "    print(animal.hacer_sonido())\n",
        "\n",
        "# Crear objetos y probar polimorfismo\n",
        "perro = Perro()\n",
        "gato = Gato()\n",
        "\n",
        "sonido_animal(perro)  # Guau\n",
        "sonido_animal(gato)  # Miau"
      ],
      "metadata": {
        "colab": {
          "base_uri": "https://localhost:8080/"
        },
        "id": "pKtEfOnrV7tA",
        "outputId": "29e48926-6daa-4c65-af23-51b766291bd2"
      },
      "execution_count": null,
      "outputs": [
        {
          "output_type": "stream",
          "name": "stdout",
          "text": [
            "Guau\n",
            "Miau\n"
          ]
        }
      ]
    },
    {
      "cell_type": "markdown",
      "source": [
        "📌 Idea clave: Un mismo método (hacer_sonido) tiene diferentes comportamientos según el tipo de animal."
      ],
      "metadata": {
        "id": "D82d193rWKnu"
      }
    },
    {
      "cell_type": "markdown",
      "source": [
        "### Multiherencia"
      ],
      "metadata": {
        "id": "SrQc6CsmQQpN"
      }
    },
    {
      "cell_type": "markdown",
      "source": [
        "La multiherencia permite que una clase herede de múltiples clases a la vez."
      ],
      "metadata": {
        "id": "22GMa-ITQW-u"
      }
    },
    {
      "cell_type": "code",
      "source": [
        "# Clase Actor\n",
        "class Actor:\n",
        "    def actuar(self):\n",
        "        print(\"Actuando en una película...\")\n",
        "\n",
        "# Clase Cantante\n",
        "class Cantante:\n",
        "    def cantar(self):\n",
        "        print(\"Cantando una canción...\")\n",
        "\n",
        "# Clase ActorCantante que hereda de ambas\n",
        "class ActorCantante(Actor, Cantante):\n",
        "    def presentarse(self):\n",
        "        print(\"Soy un artista que actúa y canta.\")\n",
        "\n",
        "# Crear un objeto\n",
        "artista = ActorCantante()\n",
        "\n",
        "# Usar métodos de ambas clases\n",
        "artista.actuar()  # Actuando en una película...\n",
        "artista.cantar()  # Cantando una canción...\n",
        "artista.presentarse()  # Soy un artista que actúa y canta.\n"
      ],
      "metadata": {
        "colab": {
          "base_uri": "https://localhost:8080/"
        },
        "id": "bf1go7AHWT1_",
        "outputId": "0e46fb4c-f5ec-4a73-fa9a-30821ad9fbc1"
      },
      "execution_count": null,
      "outputs": [
        {
          "output_type": "stream",
          "name": "stdout",
          "text": [
            "Actuando en una película...\n",
            "Cantando una canción...\n",
            "Soy un artista que actúa y canta.\n"
          ]
        }
      ]
    },
    {
      "cell_type": "markdown",
      "source": [
        "📌 Idea clave: La multiherencia permite combinar habilidades de múltiples clases en una sola."
      ],
      "metadata": {
        "id": "ab7wv6bUWULN"
      }
    },
    {
      "cell_type": "markdown",
      "source": [
        "### Clases Abstractas"
      ],
      "metadata": {
        "id": "LsALe5ViQXat"
      }
    },
    {
      "cell_type": "markdown",
      "source": [
        "Las clases abstractas son clases que no se pueden instanciar directamente y sirven como base para otras clases. Definen métodos que deben ser implementados en las clases hijas."
      ],
      "metadata": {
        "id": "ZtStNHnhQQVc"
      }
    },
    {
      "cell_type": "code",
      "source": [
        "from abc import ABC, abstractmethod\n",
        "\n",
        "# Clase abstracta\n",
        "class Vehiculo(ABC):\n",
        "    @abstractmethod\n",
        "    def moverse(self):\n",
        "        pass  # Método obligatorio para las clases hijas\n",
        "\n",
        "# Clase Auto que hereda de Vehiculo\n",
        "class Auto(Vehiculo):\n",
        "    def moverse(self):\n",
        "        print(\"El auto se mueve sobre ruedas.\")\n",
        "\n",
        "# Clase Barco que hereda de Vehiculo\n",
        "class Barco(Vehiculo):\n",
        "    def moverse(self):\n",
        "        print(\"El barco navega en el agua.\")\n",
        "\n",
        "# Crear objetos de las clases hijas\n",
        "auto = Auto()\n",
        "barco = Barco()\n",
        "\n",
        "auto.moverse()  # El auto se mueve sobre ruedas.\n",
        "barco.moverse()  # El barco navega en el agua."
      ],
      "metadata": {
        "id": "S9TRYYM1WhEO"
      },
      "execution_count": null,
      "outputs": []
    },
    {
      "cell_type": "markdown",
      "source": [
        "📌 Idea clave: Una clase abstracta es como un boceto, define lo que todos los vehículos deben hacer, pero cada uno lo implementa de manera diferente."
      ],
      "metadata": {
        "id": "bUB6HvxiWh8Z"
      }
    },
    {
      "cell_type": "markdown",
      "source": [
        "### Diagramas de clases"
      ],
      "metadata": {
        "id": "N3oviRKxPeXD"
      }
    },
    {
      "cell_type": "markdown",
      "source": [
        "Los diagramas de clases son una herramienta visual que nos ayuda a representar la estructura de un sistema orientado a objetos, mostrando las clases, sus atributos, métodos, y las relaciones entre ellas.\n"
      ],
      "metadata": {
        "id": "UVuMqLACgN-v"
      }
    },
    {
      "cell_type": "markdown",
      "source": [
        "![image.png](data:image/png;base64,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)"
      ],
      "metadata": {
        "id": "-Ti7bFf-gSXw"
      }
    }
  ]
}